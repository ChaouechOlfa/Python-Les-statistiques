{
 "cells": [
  {
   "cell_type": "code",
   "execution_count": null,
   "id": "617bd6cc",
   "metadata": {},
   "outputs": [],
   "source": [
    "#Importation des bibliothèques pandas et scipy"
   ]
  },
  {
   "cell_type": "code",
   "execution_count": 1,
   "id": "709a1103",
   "metadata": {},
   "outputs": [],
   "source": [
    "import pandas as pd"
   ]
  },
  {
   "cell_type": "code",
   "execution_count": 2,
   "id": "559f3e17",
   "metadata": {},
   "outputs": [],
   "source": [
    "import scipy.stats"
   ]
  },
  {
   "cell_type": "code",
   "execution_count": 3,
   "id": "76eb48e2",
   "metadata": {},
   "outputs": [],
   "source": [
    "maDataFrame=pd.read_csv('Data/ozone.csv')"
   ]
  },
  {
   "cell_type": "code",
   "execution_count": 4,
   "id": "30da972a",
   "metadata": {},
   "outputs": [
    {
     "data": {
      "text/html": [
       "<div>\n",
       "<style scoped>\n",
       "    .dataframe tbody tr th:only-of-type {\n",
       "        vertical-align: middle;\n",
       "    }\n",
       "\n",
       "    .dataframe tbody tr th {\n",
       "        vertical-align: top;\n",
       "    }\n",
       "\n",
       "    .dataframe thead th {\n",
       "        text-align: right;\n",
       "    }\n",
       "</style>\n",
       "<table border=\"1\" class=\"dataframe\">\n",
       "  <thead>\n",
       "    <tr style=\"text-align: right;\">\n",
       "      <th></th>\n",
       "      <th>JOUR</th>\n",
       "      <th>O3obs</th>\n",
       "      <th>MOCAGE</th>\n",
       "      <th>TEMPE</th>\n",
       "      <th>RMH2O</th>\n",
       "      <th>NO2</th>\n",
       "      <th>NO</th>\n",
       "      <th>STATION</th>\n",
       "      <th>VentMOD</th>\n",
       "      <th>VentANG</th>\n",
       "    </tr>\n",
       "  </thead>\n",
       "  <tbody>\n",
       "    <tr>\n",
       "      <th>0</th>\n",
       "      <td>1</td>\n",
       "      <td>91</td>\n",
       "      <td>93.2</td>\n",
       "      <td>21.5</td>\n",
       "      <td>0.00847</td>\n",
       "      <td>1.602</td>\n",
       "      <td>0.424</td>\n",
       "      <td>Aix</td>\n",
       "      <td>9.5000</td>\n",
       "      <td>-0.64350</td>\n",
       "    </tr>\n",
       "    <tr>\n",
       "      <th>1</th>\n",
       "      <td>1</td>\n",
       "      <td>100</td>\n",
       "      <td>104.6</td>\n",
       "      <td>20.2</td>\n",
       "      <td>0.00881</td>\n",
       "      <td>2.121</td>\n",
       "      <td>0.531</td>\n",
       "      <td>Aix</td>\n",
       "      <td>8.0100</td>\n",
       "      <td>-0.04996</td>\n",
       "    </tr>\n",
       "    <tr>\n",
       "      <th>2</th>\n",
       "      <td>0</td>\n",
       "      <td>82</td>\n",
       "      <td>103.6</td>\n",
       "      <td>17.4</td>\n",
       "      <td>0.00951</td>\n",
       "      <td>1.657</td>\n",
       "      <td>0.467</td>\n",
       "      <td>Aix</td>\n",
       "      <td>9.3771</td>\n",
       "      <td>-0.12832</td>\n",
       "    </tr>\n",
       "    <tr>\n",
       "      <th>3</th>\n",
       "      <td>0</td>\n",
       "      <td>94</td>\n",
       "      <td>94.8</td>\n",
       "      <td>18.8</td>\n",
       "      <td>0.00855</td>\n",
       "      <td>2.350</td>\n",
       "      <td>0.701</td>\n",
       "      <td>Aix</td>\n",
       "      <td>9.4578</td>\n",
       "      <td>-0.34516</td>\n",
       "    </tr>\n",
       "    <tr>\n",
       "      <th>4</th>\n",
       "      <td>0</td>\n",
       "      <td>107</td>\n",
       "      <td>99.0</td>\n",
       "      <td>23.7</td>\n",
       "      <td>0.00731</td>\n",
       "      <td>1.653</td>\n",
       "      <td>0.452</td>\n",
       "      <td>Aix</td>\n",
       "      <td>7.8791</td>\n",
       "      <td>-0.41822</td>\n",
       "    </tr>\n",
       "    <tr>\n",
       "      <th>...</th>\n",
       "      <td>...</td>\n",
       "      <td>...</td>\n",
       "      <td>...</td>\n",
       "      <td>...</td>\n",
       "      <td>...</td>\n",
       "      <td>...</td>\n",
       "      <td>...</td>\n",
       "      <td>...</td>\n",
       "      <td>...</td>\n",
       "      <td>...</td>\n",
       "    </tr>\n",
       "    <tr>\n",
       "      <th>1036</th>\n",
       "      <td>0</td>\n",
       "      <td>116</td>\n",
       "      <td>233.6</td>\n",
       "      <td>22.1</td>\n",
       "      <td>0.01048</td>\n",
       "      <td>4.843</td>\n",
       "      <td>0.431</td>\n",
       "      <td>Pla</td>\n",
       "      <td>4.8052</td>\n",
       "      <td>-0.20964</td>\n",
       "    </tr>\n",
       "    <tr>\n",
       "      <th>1037</th>\n",
       "      <td>0</td>\n",
       "      <td>60</td>\n",
       "      <td>162.5</td>\n",
       "      <td>15.8</td>\n",
       "      <td>0.00789</td>\n",
       "      <td>3.166</td>\n",
       "      <td>0.411</td>\n",
       "      <td>Pla</td>\n",
       "      <td>2.7203</td>\n",
       "      <td>-0.62880</td>\n",
       "    </tr>\n",
       "    <tr>\n",
       "      <th>1038</th>\n",
       "      <td>0</td>\n",
       "      <td>74</td>\n",
       "      <td>198.4</td>\n",
       "      <td>16.2</td>\n",
       "      <td>0.00811</td>\n",
       "      <td>8.349</td>\n",
       "      <td>0.942</td>\n",
       "      <td>Pla</td>\n",
       "      <td>4.0311</td>\n",
       "      <td>0.12435</td>\n",
       "    </tr>\n",
       "    <tr>\n",
       "      <th>1039</th>\n",
       "      <td>0</td>\n",
       "      <td>121</td>\n",
       "      <td>191.7</td>\n",
       "      <td>16.4</td>\n",
       "      <td>0.00722</td>\n",
       "      <td>2.101</td>\n",
       "      <td>0.199</td>\n",
       "      <td>Pla</td>\n",
       "      <td>3.8000</td>\n",
       "      <td>0.00000</td>\n",
       "    </tr>\n",
       "    <tr>\n",
       "      <th>1040</th>\n",
       "      <td>1</td>\n",
       "      <td>93</td>\n",
       "      <td>221.2</td>\n",
       "      <td>16.7</td>\n",
       "      <td>0.00919</td>\n",
       "      <td>2.290</td>\n",
       "      <td>0.202</td>\n",
       "      <td>Pla</td>\n",
       "      <td>2.3022</td>\n",
       "      <td>0.04345</td>\n",
       "    </tr>\n",
       "  </tbody>\n",
       "</table>\n",
       "<p>1041 rows × 10 columns</p>\n",
       "</div>"
      ],
      "text/plain": [
       "      JOUR  O3obs  MOCAGE  TEMPE    RMH2O    NO2     NO STATION  VentMOD  \\\n",
       "0        1     91    93.2   21.5  0.00847  1.602  0.424     Aix   9.5000   \n",
       "1        1    100   104.6   20.2  0.00881  2.121  0.531     Aix   8.0100   \n",
       "2        0     82   103.6   17.4  0.00951  1.657  0.467     Aix   9.3771   \n",
       "3        0     94    94.8   18.8  0.00855  2.350  0.701     Aix   9.4578   \n",
       "4        0    107    99.0   23.7  0.00731  1.653  0.452     Aix   7.8791   \n",
       "...    ...    ...     ...    ...      ...    ...    ...     ...      ...   \n",
       "1036     0    116   233.6   22.1  0.01048  4.843  0.431     Pla   4.8052   \n",
       "1037     0     60   162.5   15.8  0.00789  3.166  0.411     Pla   2.7203   \n",
       "1038     0     74   198.4   16.2  0.00811  8.349  0.942     Pla   4.0311   \n",
       "1039     0    121   191.7   16.4  0.00722  2.101  0.199     Pla   3.8000   \n",
       "1040     1     93   221.2   16.7  0.00919  2.290  0.202     Pla   2.3022   \n",
       "\n",
       "      VentANG  \n",
       "0    -0.64350  \n",
       "1    -0.04996  \n",
       "2    -0.12832  \n",
       "3    -0.34516  \n",
       "4    -0.41822  \n",
       "...       ...  \n",
       "1036 -0.20964  \n",
       "1037 -0.62880  \n",
       "1038  0.12435  \n",
       "1039  0.00000  \n",
       "1040  0.04345  \n",
       "\n",
       "[1041 rows x 10 columns]"
      ]
     },
     "execution_count": 4,
     "metadata": {},
     "output_type": "execute_result"
    }
   ],
   "source": [
    "maDataFrame"
   ]
  },
  {
   "cell_type": "code",
   "execution_count": null,
   "id": "26600754",
   "metadata": {},
   "outputs": [],
   "source": [
    "#Calcul de la valeur minimale de la variable O3obs"
   ]
  },
  {
   "cell_type": "code",
   "execution_count": 5,
   "id": "884d5d34",
   "metadata": {},
   "outputs": [
    {
     "data": {
      "text/plain": [
       "19"
      ]
     },
     "execution_count": 5,
     "metadata": {},
     "output_type": "execute_result"
    }
   ],
   "source": [
    "maDataFrame.O3obs.min()"
   ]
  },
  {
   "cell_type": "code",
   "execution_count": null,
   "id": "0842f4ce",
   "metadata": {},
   "outputs": [],
   "source": [
    "#Calcul de la valeur maximale de la variable O3obs"
   ]
  },
  {
   "cell_type": "code",
   "execution_count": 6,
   "id": "4e8174c3",
   "metadata": {},
   "outputs": [
    {
     "data": {
      "text/plain": [
       "319"
      ]
     },
     "execution_count": 6,
     "metadata": {},
     "output_type": "execute_result"
    }
   ],
   "source": [
    "maDataFrame.O3obs.max()"
   ]
  },
  {
   "cell_type": "code",
   "execution_count": null,
   "id": "120f18f9",
   "metadata": {},
   "outputs": [],
   "source": [
    "#Calcul de la moyenne de la variable O3obs"
   ]
  },
  {
   "cell_type": "code",
   "execution_count": 7,
   "id": "5dd596eb",
   "metadata": {},
   "outputs": [
    {
     "data": {
      "text/plain": [
       "115.40057636887607"
      ]
     },
     "execution_count": 7,
     "metadata": {},
     "output_type": "execute_result"
    }
   ],
   "source": [
    "maDataFrame.O3obs.mean()"
   ]
  },
  {
   "cell_type": "code",
   "execution_count": null,
   "id": "b49816f7",
   "metadata": {},
   "outputs": [],
   "source": [
    "#Calcul de la variance de la variable O3obs"
   ]
  },
  {
   "cell_type": "code",
   "execution_count": 8,
   "id": "40e7aef2",
   "metadata": {},
   "outputs": [
    {
     "data": {
      "text/plain": [
       "1680.9307304367082"
      ]
     },
     "execution_count": 8,
     "metadata": {},
     "output_type": "execute_result"
    }
   ],
   "source": [
    "maDataFrame.O3obs.var()"
   ]
  },
  {
   "cell_type": "code",
   "execution_count": 10,
   "id": "ac1b2ff4",
   "metadata": {},
   "outputs": [
    {
     "data": {
      "text/plain": [
       "1679.316003510256"
      ]
     },
     "execution_count": 10,
     "metadata": {},
     "output_type": "execute_result"
    }
   ],
   "source": [
    "maDataFrame.O3obs.var(ddof=0)#La variance estimmée de la population"
   ]
  },
  {
   "cell_type": "code",
   "execution_count": 11,
   "id": "05e77812",
   "metadata": {},
   "outputs": [
    {
     "data": {
      "text/plain": [
       "1680.9307304367082"
      ]
     },
     "execution_count": 11,
     "metadata": {},
     "output_type": "execute_result"
    }
   ],
   "source": [
    "maDataFrame.O3obs.var(ddof=1)"
   ]
  },
  {
   "cell_type": "code",
   "execution_count": null,
   "id": "4bf1641b",
   "metadata": {},
   "outputs": [],
   "source": [
    "#Calcul de l'écart-type"
   ]
  },
  {
   "cell_type": "code",
   "execution_count": 12,
   "id": "c570b436",
   "metadata": {},
   "outputs": [
    {
     "data": {
      "text/plain": [
       "40.99915524052548"
      ]
     },
     "execution_count": 12,
     "metadata": {},
     "output_type": "execute_result"
    }
   ],
   "source": [
    "maDataFrame.O3obs.std()"
   ]
  },
  {
   "cell_type": "code",
   "execution_count": null,
   "id": "4efc82e6",
   "metadata": {},
   "outputs": [],
   "source": [
    "#Calcul des quantiles"
   ]
  },
  {
   "cell_type": "code",
   "execution_count": 13,
   "id": "b32ba8a0",
   "metadata": {},
   "outputs": [
    {
     "data": {
      "text/plain": [
       "0.25     87.0\n",
       "0.50    109.0\n",
       "0.75    135.0\n",
       "Name: O3obs, dtype: float64"
      ]
     },
     "execution_count": 13,
     "metadata": {},
     "output_type": "execute_result"
    }
   ],
   "source": [
    "maDataFrame.O3obs.quantile([0.25,0.5,0.75])"
   ]
  },
  {
   "cell_type": "code",
   "execution_count": null,
   "id": "735e9486",
   "metadata": {},
   "outputs": [],
   "source": [
    "#Calcul de la médiane"
   ]
  },
  {
   "cell_type": "code",
   "execution_count": 14,
   "id": "e04248f5",
   "metadata": {},
   "outputs": [
    {
     "data": {
      "text/plain": [
       "109.0"
      ]
     },
     "execution_count": 14,
     "metadata": {},
     "output_type": "execute_result"
    }
   ],
   "source": [
    "maDataFrame.O3obs.median()"
   ]
  },
  {
   "cell_type": "code",
   "execution_count": null,
   "id": "08a1aeff",
   "metadata": {},
   "outputs": [],
   "source": [
    "#La fonction percentileofscore"
   ]
  },
  {
   "cell_type": "code",
   "execution_count": 17,
   "id": "d40468d2",
   "metadata": {},
   "outputs": [
    {
     "data": {
      "text/plain": [
       "99.90393852065321"
      ]
     },
     "execution_count": 17,
     "metadata": {},
     "output_type": "execute_result"
    }
   ],
   "source": [
    "scipy.stats.percentileofscore(maDataFrame.O3obs,300)"
   ]
  },
  {
   "cell_type": "code",
   "execution_count": null,
   "id": "f6ff1c07",
   "metadata": {},
   "outputs": [],
   "source": [
    "maDataFrame"
   ]
  }
 ],
 "metadata": {
  "kernelspec": {
   "display_name": "Python 3 (ipykernel)",
   "language": "python",
   "name": "python3"
  },
  "language_info": {
   "codemirror_mode": {
    "name": "ipython",
    "version": 3
   },
   "file_extension": ".py",
   "mimetype": "text/x-python",
   "name": "python",
   "nbconvert_exporter": "python",
   "pygments_lexer": "ipython3",
   "version": "3.10.9"
  }
 },
 "nbformat": 4,
 "nbformat_minor": 5
}
